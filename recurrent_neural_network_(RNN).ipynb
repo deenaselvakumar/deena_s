{
  "nbformat": 4,
  "nbformat_minor": 0,
  "metadata": {
    "colab": {
      "provenance": [],
      "authorship_tag": "ABX9TyOkPta+8PEkPsRKwXomgn3L",
      "include_colab_link": true
    },
    "kernelspec": {
      "name": "python3",
      "display_name": "Python 3"
    },
    "language_info": {
      "name": "python"
    }
  },
  "cells": [
    {
      "cell_type": "markdown",
      "metadata": {
        "id": "view-in-github",
        "colab_type": "text"
      },
      "source": [
        "<a href=\"https://colab.research.google.com/github/deenaselvakumar/deena_s/blob/main/recurrent_neural_network_(RNN).ipynb\" target=\"_parent\"><img src=\"https://colab.research.google.com/assets/colab-badge.svg\" alt=\"Open In Colab\"/></a>"
      ]
    },
    {
      "cell_type": "code",
      "execution_count": null,
      "metadata": {
        "colab": {
          "base_uri": "https://localhost:8080/"
        },
        "id": "cO9Qn2pirf2F",
        "outputId": "1c01349b-0889-44fe-9d20-6e10ff2c62f3"
      },
      "outputs": [
        {
          "output_type": "stream",
          "name": "stdout",
          "text": [
            "Model: \"sequential_1\"\n",
            "_________________________________________________________________\n",
            " Layer (type)                Output Shape              Param #   \n",
            "=================================================================\n",
            " embedding_1 (Embedding)     (None, 500, 128)          1280000   \n",
            "                                                                 \n",
            " simple_rnn_1 (SimpleRNN)    (None, 128)               32896     \n",
            "                                                                 \n",
            " dense_1 (Dense)             (None, 1)                 129       \n",
            "                                                                 \n",
            "=================================================================\n",
            "Total params: 1313025 (5.01 MB)\n",
            "Trainable params: 1313025 (5.01 MB)\n",
            "Non-trainable params: 0 (0.00 Byte)\n",
            "_________________________________________________________________\n",
            "Epoch 1/10\n",
            "625/625 [==============================] - 148s 234ms/step - loss: 0.6405 - accuracy: 0.6098 - val_loss: 0.5778 - val_accuracy: 0.6930\n",
            "Epoch 2/10\n",
            "625/625 [==============================] - 147s 235ms/step - loss: 0.4453 - accuracy: 0.8008 - val_loss: 0.4985 - val_accuracy: 0.7636\n",
            "Epoch 3/10\n",
            "625/625 [==============================] - 147s 236ms/step - loss: 0.2669 - accuracy: 0.8892 - val_loss: 0.4095 - val_accuracy: 0.8288\n",
            "Epoch 4/10\n",
            "625/625 [==============================] - 148s 237ms/step - loss: 0.1729 - accuracy: 0.9354 - val_loss: 0.4380 - val_accuracy: 0.8302\n",
            "Epoch 5/10\n",
            "625/625 [==============================] - 150s 240ms/step - loss: 0.1083 - accuracy: 0.9643 - val_loss: 0.4867 - val_accuracy: 0.8212\n",
            "Epoch 6/10\n",
            "625/625 [==============================] - 142s 228ms/step - loss: 0.0633 - accuracy: 0.9810 - val_loss: 0.5359 - val_accuracy: 0.8196\n",
            "Epoch 7/10\n",
            "625/625 [==============================] - 149s 238ms/step - loss: 0.0326 - accuracy: 0.9915 - val_loss: 0.6205 - val_accuracy: 0.8140\n",
            "Epoch 8/10\n",
            "625/625 [==============================] - 145s 233ms/step - loss: 0.0212 - accuracy: 0.9949 - val_loss: 0.6721 - val_accuracy: 0.8140\n",
            "Epoch 9/10\n",
            "625/625 [==============================] - 150s 240ms/step - loss: 0.0287 - accuracy: 0.9913 - val_loss: 0.7363 - val_accuracy: 0.8088\n",
            "Epoch 10/10\n",
            "625/625 [==============================] - 152s 244ms/step - loss: 0.0122 - accuracy: 0.9973 - val_loss: 0.7928 - val_accuracy: 0.8140\n",
            "782/782 [==============================] - 44s 56ms/step - loss: 0.7982 - accuracy: 0.8150\n",
            "Test loss: 0.7981979846954346\n",
            "Test accuracy: 0.8149600028991699\n"
          ]
        }
      ],
      "source": [
        "import numpy as np\n",
        "import tensorflow as tf\n",
        "from tensorflow.keras.models import Sequential\n",
        "from tensorflow.keras.layers import Embedding, SimpleRNN, Dense\n",
        "from tensorflow.keras.preprocessing.sequence import pad_sequences\n",
        "from tensorflow.keras.datasets import imdb\n",
        "max_features = 10000\n",
        "maxlen = 500\n",
        "(x_train, y_train), (x_test, y_test) = imdb.load_data(num_words=max_features)\n",
        "x_train = pad_sequences(x_train, maxlen=maxlen)\n",
        "x_test = pad_sequences(x_test, maxlen=maxlen)\n",
        "model = Sequential([\n",
        "    Embedding(max_features, 128, input_length=maxlen),\n",
        "    SimpleRNN(128),\n",
        "    Dense(1, activation='sigmoid')\n",
        "])\n",
        "\n",
        "model.compile(optimizer='adam', loss='binary_crossentropy', metrics=['accuracy'])\n",
        "model.summary()\n",
        "model.fit(x_train, y_train, epochs=10, batch_size=32, validation_split=0.2)\n",
        "score = model.evaluate(x_test, y_test)\n",
        "print('Test loss:', score[0])\n",
        "print('Test accuracy:', score[1])\n",
        "def tokeniser(sentense):\n",
        "  tokeniser=tokeniser()\n",
        "\n"
      ]
    }
  ]
}