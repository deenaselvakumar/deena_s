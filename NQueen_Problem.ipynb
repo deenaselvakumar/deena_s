{
  "nbformat": 4,
  "nbformat_minor": 0,
  "metadata": {
    "colab": {
      "provenance": [],
      "authorship_tag": "ABX9TyPRLouMZd4MV3otDjCJMG2u",
      "include_colab_link": true
    },
    "kernelspec": {
      "name": "python3",
      "display_name": "Python 3"
    },
    "language_info": {
      "name": "python"
    }
  },
  "cells": [
    {
      "cell_type": "markdown",
      "metadata": {
        "id": "view-in-github",
        "colab_type": "text"
      },
      "source": [
        "<a href=\"https://colab.research.google.com/github/deenaselvakumar/deena_s/blob/main/NQueen_Problem.ipynb\" target=\"_parent\"><img src=\"https://colab.research.google.com/assets/colab-badge.svg\" alt=\"Open In Colab\"/></a>"
      ]
    },
    {
      "cell_type": "code",
      "execution_count": 4,
      "metadata": {
        "colab": {
          "base_uri": "https://localhost:8080/"
        },
        "id": "ExB7r3zrLMqS",
        "outputId": "c7d9239d-84bc-459b-9e5f-142f3f959a28"
      },
      "outputs": [
        {
          "output_type": "stream",
          "name": "stdout",
          "text": [
            "[[0, 4, 7, 5, 2, 6, 1, 3], [0, 5, 7, 2, 6, 3, 1, 4], [0, 6, 3, 5, 7, 1, 4, 2], [0, 6, 4, 7, 1, 3, 5, 2], [1, 3, 5, 7, 2, 0, 6, 4], [1, 4, 6, 0, 2, 7, 5, 3], [1, 4, 6, 3, 0, 7, 5, 2], [1, 5, 0, 6, 3, 7, 2, 4], [1, 5, 7, 2, 0, 3, 6, 4], [1, 6, 2, 5, 7, 4, 0, 3], [1, 6, 4, 7, 0, 3, 5, 2], [1, 7, 5, 0, 2, 4, 6, 3], [2, 0, 6, 4, 7, 1, 3, 5], [2, 4, 1, 7, 0, 6, 3, 5], [2, 4, 1, 7, 5, 3, 6, 0], [2, 4, 6, 0, 3, 1, 7, 5], [2, 4, 7, 3, 0, 6, 1, 5], [2, 5, 1, 4, 7, 0, 6, 3], [2, 5, 1, 6, 0, 3, 7, 4], [2, 5, 1, 6, 4, 0, 7, 3], [2, 5, 3, 0, 7, 4, 6, 1], [2, 5, 3, 1, 7, 4, 6, 0], [2, 5, 7, 0, 3, 6, 4, 1], [2, 5, 7, 0, 4, 6, 1, 3], [2, 5, 7, 1, 3, 0, 6, 4], [2, 6, 1, 7, 4, 0, 3, 5], [2, 6, 1, 7, 5, 3, 0, 4], [2, 7, 3, 6, 0, 5, 1, 4], [3, 0, 4, 7, 1, 6, 2, 5], [3, 0, 4, 7, 5, 2, 6, 1], [3, 1, 4, 7, 5, 0, 2, 6], [3, 1, 6, 2, 5, 7, 0, 4], [3, 1, 6, 2, 5, 7, 4, 0], [3, 1, 6, 4, 0, 7, 5, 2], [3, 1, 7, 4, 6, 0, 2, 5], [3, 1, 7, 5, 0, 2, 4, 6], [3, 5, 0, 4, 1, 7, 2, 6], [3, 5, 7, 1, 6, 0, 2, 4], [3, 5, 7, 2, 0, 6, 4, 1], [3, 6, 0, 7, 4, 1, 5, 2], [3, 6, 2, 7, 1, 4, 0, 5], [3, 6, 4, 1, 5, 0, 2, 7], [3, 6, 4, 2, 0, 5, 7, 1], [3, 7, 0, 2, 5, 1, 6, 4], [3, 7, 0, 4, 6, 1, 5, 2], [3, 7, 4, 2, 0, 6, 1, 5], [4, 0, 3, 5, 7, 1, 6, 2], [4, 0, 7, 3, 1, 6, 2, 5], [4, 0, 7, 5, 2, 6, 1, 3], [4, 1, 3, 5, 7, 2, 0, 6], [4, 1, 3, 6, 2, 7, 5, 0], [4, 1, 5, 0, 6, 3, 7, 2], [4, 1, 7, 0, 3, 6, 2, 5], [4, 2, 0, 5, 7, 1, 3, 6], [4, 2, 0, 6, 1, 7, 5, 3], [4, 2, 7, 3, 6, 0, 5, 1], [4, 6, 0, 2, 7, 5, 3, 1], [4, 6, 0, 3, 1, 7, 5, 2], [4, 6, 1, 3, 7, 0, 2, 5], [4, 6, 1, 5, 2, 0, 3, 7], [4, 6, 1, 5, 2, 0, 7, 3], [4, 6, 3, 0, 2, 7, 5, 1], [4, 7, 3, 0, 2, 5, 1, 6], [4, 7, 3, 0, 6, 1, 5, 2], [5, 0, 4, 1, 7, 2, 6, 3], [5, 1, 6, 0, 2, 4, 7, 3], [5, 1, 6, 0, 3, 7, 4, 2], [5, 2, 0, 6, 4, 7, 1, 3], [5, 2, 0, 7, 3, 1, 6, 4], [5, 2, 0, 7, 4, 1, 3, 6], [5, 2, 4, 6, 0, 3, 1, 7], [5, 2, 4, 7, 0, 3, 1, 6], [5, 2, 6, 1, 3, 7, 0, 4], [5, 2, 6, 1, 7, 4, 0, 3], [5, 2, 6, 3, 0, 7, 1, 4], [5, 3, 0, 4, 7, 1, 6, 2], [5, 3, 1, 7, 4, 6, 0, 2], [5, 3, 6, 0, 2, 4, 1, 7], [5, 3, 6, 0, 7, 1, 4, 2], [5, 7, 1, 3, 0, 6, 4, 2], [6, 0, 2, 7, 5, 3, 1, 4], [6, 1, 3, 0, 7, 4, 2, 5], [6, 1, 5, 2, 0, 3, 7, 4], [6, 2, 0, 5, 7, 4, 1, 3], [6, 2, 7, 1, 4, 0, 5, 3], [6, 3, 1, 4, 7, 0, 2, 5], [6, 3, 1, 7, 5, 0, 2, 4], [6, 4, 2, 0, 5, 7, 1, 3], [7, 1, 3, 0, 6, 4, 2, 5], [7, 1, 4, 2, 0, 6, 3, 5], [7, 2, 0, 5, 1, 4, 6, 3], [7, 3, 0, 2, 5, 1, 6, 4]]\n",
            "Q . . . . . . .\n",
            ". . . . Q . . .\n",
            ". . . . . . . Q\n",
            ". . . . . Q . .\n",
            ". . Q . . . . .\n",
            ". . . . . . Q .\n",
            ". Q . . . . . .\n",
            ". . . Q . . . .\n"
          ]
        }
      ],
      "source": [
        "def n_queens(n):\n",
        "  \"\"\"Find all distinct solutions to the n-queens puzzle.\"\"\"\n",
        "  solutions = []\n",
        "  cols = [0] * n\n",
        "  # Initialize the first column.\n",
        "  for i in range(n):\n",
        "    cols[i] = i\n",
        "  # Recursively solve the puzzle.\n",
        "  solve(n, cols, 0, solutions)\n",
        "  return solutions\n",
        "\n",
        "def solve(n, cols, row, solutions):\n",
        "  \"\"\"Recursively solve the n-queens puzzle.\"\"\"\n",
        "  # If we have reached the last row, add the solution to the list.\n",
        "  if row == n:\n",
        "    solutions.append(cols[:])\n",
        "    return\n",
        "  # Try all possible positions for the queen in the current row.\n",
        "  for i in range(n):\n",
        "    # If the queen can be placed in the current position, place it and solve the puzzle for the next row.\n",
        "    if is_safe(cols, row, i):\n",
        "      cols[row] = i\n",
        "      solve(n, cols, row + 1, solutions)\n",
        "\n",
        "def is_safe(cols, row, col):\n",
        "  \"\"\"Check if the queen can be placed in the given position.\"\"\"\n",
        "  # Check if the queen is in the same column as any other queen.\n",
        "  for i in range(row):\n",
        "    if cols[i] == col:\n",
        "      return False\n",
        "  # Check if the queen is in the same diagonal as any other queen.\n",
        "  for i in range(row):\n",
        "    if abs(cols[i] - col) == abs(row - i):\n",
        "      return False\n",
        "  return True\n",
        "\n",
        "def printBoard(chess,N) :\n",
        "    \"\"\"Prints the board given a solution from n_queens\"\"\"\n",
        "    # Create an empty NxN board\n",
        "    board = [['.' for _ in range(N)] for _ in range(N)]\n",
        "\n",
        "    # Place the queens based on the solution\n",
        "    for row, col in enumerate(chess):  # chess represents a single solution\n",
        "        board[row][col] = 'Q'\n",
        "\n",
        "    # Print the board\n",
        "    for row in board:\n",
        "        print(' '.join(row))\n",
        "\n",
        "\n",
        "print(n_queens(8))\n",
        "# Print the first solution found by n_queens(4)\n",
        "solutions = n_queens(8)\n",
        "if solutions:  # Check if solutions were found\n",
        "    printBoard(solutions[0], 8)\n",
        "else:\n",
        "    print(\"No solutions found.\")"
      ]
    },
    {
      "cell_type": "code",
      "source": [
        "# This function returns True if the queen can be placed on the board at row i and column j,\n",
        "# and False otherwise.\n",
        "def is_safe(board, row, col):\n",
        "  for i in range(col):\n",
        "    if board[row][i]==1:\n",
        "      return False\n",
        "  for i,j in zip(range(row,-1,-1),range(col,-1,-1)):\n",
        "    if board[i][j]==1:\n",
        "      return False\n",
        "  for i,j in zip(range(row,n),range(col,-1,-1)):\n",
        "    if board[i][j]==1:\n",
        "      return False\n",
        "  return True\n",
        "# This function prints the chessboard with the queens placed on it.\n",
        "def print_board(board):\n",
        "  for row in board:\n",
        "    print(' '.join([str(i) for i in row]))\n",
        "\n",
        "n = int(input('Enter the number of queens: '))\n",
        "\n",
        "board = [[0 for _ in range(n)] for _ in range(n)]\n",
        "\n",
        "print(board)\n",
        "\n",
        "def solveQueen(board,col):\n",
        "  if col>=n:\n",
        "    return True\n",
        "  for i in range(n):\n",
        "    if is_safe(board,i,col):\n",
        "      board[i][col]=1\n",
        "      if solveQueen(board,col+1):\n",
        "        return True\n",
        "      board[i][col]=0\n",
        "  return False\n",
        "solveQueen(board,4)\n",
        "# Print the board.\n",
        "print_board(board)"
      ],
      "metadata": {
        "colab": {
          "base_uri": "https://localhost:8080/"
        },
        "id": "dsFbs17zNWAe",
        "outputId": "d3877d4c-05c5-4f0a-cad0-b82d0cb4d9b2"
      },
      "execution_count": 5,
      "outputs": [
        {
          "output_type": "stream",
          "name": "stdout",
          "text": [
            "Enter the number of queens: 12\n",
            "[[0, 0, 0, 0, 0, 0, 0, 0, 0, 0, 0, 0], [0, 0, 0, 0, 0, 0, 0, 0, 0, 0, 0, 0], [0, 0, 0, 0, 0, 0, 0, 0, 0, 0, 0, 0], [0, 0, 0, 0, 0, 0, 0, 0, 0, 0, 0, 0], [0, 0, 0, 0, 0, 0, 0, 0, 0, 0, 0, 0], [0, 0, 0, 0, 0, 0, 0, 0, 0, 0, 0, 0], [0, 0, 0, 0, 0, 0, 0, 0, 0, 0, 0, 0], [0, 0, 0, 0, 0, 0, 0, 0, 0, 0, 0, 0], [0, 0, 0, 0, 0, 0, 0, 0, 0, 0, 0, 0], [0, 0, 0, 0, 0, 0, 0, 0, 0, 0, 0, 0], [0, 0, 0, 0, 0, 0, 0, 0, 0, 0, 0, 0], [0, 0, 0, 0, 0, 0, 0, 0, 0, 0, 0, 0]]\n",
            "0 0 0 0 1 0 0 0 0 0 0 0\n",
            "0 0 0 0 0 0 0 1 0 0 0 0\n",
            "0 0 0 0 0 1 0 0 0 0 0 0\n",
            "0 0 0 0 0 0 0 0 0 0 1 0\n",
            "0 0 0 0 0 0 1 0 0 0 0 0\n",
            "0 0 0 0 0 0 0 0 0 0 0 0\n",
            "0 0 0 0 0 0 0 0 0 0 0 1\n",
            "0 0 0 0 0 0 0 0 1 0 0 0\n",
            "0 0 0 0 0 0 0 0 0 0 0 0\n",
            "0 0 0 0 0 0 0 0 0 1 0 0\n",
            "0 0 0 0 0 0 0 0 0 0 0 0\n",
            "0 0 0 0 0 0 0 0 0 0 0 0\n"
          ]
        }
      ]
    },
    {
      "cell_type": "code",
      "source": [
        "import sys\n",
        "\n",
        "def main():\n",
        "    n = int(input(\"Enter the size of the board: \"))\n",
        "\n",
        "    board = [[0 for i in range(n)] for j in range(n)]\n",
        "    if solveNQueen(board, 0):\n",
        "        printSolution(board)\n",
        "    else:\n",
        "        print(\"No solution exists.\")\n",
        "def solveNQueen(board, col):\n",
        "    # If all the queens have been placed, return True.\n",
        "\n",
        "    if col >= len(board):\n",
        "        return True\n",
        "\n",
        "import sys\n",
        "\n",
        "def main():\n",
        "    n = int(input(\"Enter the size of the board: \"))\n",
        "\n",
        "    board = [[0 for i in range(n)] for j in range(n)]\n",
        "    if solveNQueen(board, 0):\n",
        "        printSolution(board)\n",
        "    else:\n",
        "        print(\"No solution exists.\")\n",
        "def solveNQueen(board, col):\n",
        "    # If all the queens have been placed, return True.\n",
        "\n",
        "    if col >= len(board):\n",
        "        return True\n",
        "\n",
        "    # Try to place a queen in each row of the column.\n",
        "\n",
        "    for i in range(len(board)):\n",
        "        if isSafe(board, i, col):\n",
        "            board[i][col] = 1\n",
        "\n",
        "            if solveNQueen(board, col + 1):\n",
        "                return True\n",
        "\n",
        "            board[i][col] = 0  # Backtrack if placing the queen in the current position doesn't lead to a solution.\n",
        "\n",
        "    return False\n",
        "\n",
        "def isSafe(board, row, col):\n",
        "    for i in range(col):\n",
        "        if board[row][i] == 1:\n",
        "            return False\n",
        "\n",
        "    for i, j in zip(range(row, -1, -1), range(col, -1, -1)):\n",
        "        if board[i][j] == 1:\n",
        "            return False\n",
        "\n",
        "    for i, j in zip(range(row, len(board), 1), range(col, -1, -1)):\n",
        "        if board[i][j] == 1:\n",
        "            return False\n",
        "\n",
        "    return True\n",
        "\n",
        "def printSolution(board):\n",
        "    for i in range(len(board)):\n",
        "        for j in range(len(board)):\n",
        "            print(board[i][j], end=\" \")\n",
        "        print()\n",
        "\n",
        "if __name__ == \"__main__\":\n",
        "    main()"
      ],
      "metadata": {
        "id": "UO0M8xBBVK6p",
        "colab": {
          "base_uri": "https://localhost:8080/"
        },
        "outputId": "2b6eec4f-6abc-41cf-c044-7ca5683551f1"
      },
      "execution_count": 9,
      "outputs": [
        {
          "output_type": "stream",
          "name": "stdout",
          "text": [
            "Enter the size of the board: 8\n",
            "1 0 0 0 0 0 0 0 \n",
            "0 0 0 0 0 0 1 0 \n",
            "0 0 0 0 1 0 0 0 \n",
            "0 0 0 0 0 0 0 1 \n",
            "0 1 0 0 0 0 0 0 \n",
            "0 0 0 1 0 0 0 0 \n",
            "0 0 0 0 0 1 0 0 \n",
            "0 0 1 0 0 0 0 0 \n"
          ]
        }
      ]
    }
  ]
}